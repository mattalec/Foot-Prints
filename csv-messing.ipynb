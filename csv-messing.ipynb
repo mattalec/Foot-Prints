{
 "cells": [
  {
   "cell_type": "code",
   "execution_count": 1,
   "metadata": {},
   "outputs": [],
   "source": [
    "import pandas as pd"
   ]
  },
  {
   "cell_type": "code",
   "execution_count": 2,
   "metadata": {},
   "outputs": [],
   "source": [
    "columns = ['dob','full_name','email','medication','dosage','quantity', 'date']"
   ]
  },
  {
   "cell_type": "code",
   "execution_count": 3,
   "metadata": {},
   "outputs": [],
   "source": [
    "ds = pd.read_csv('prescriptions.csv', names=columns)"
   ]
  },
  {
   "cell_type": "code",
   "execution_count": 4,
   "metadata": {},
   "outputs": [
    {
     "data": {
      "text/html": [
       "<div>\n",
       "<style scoped>\n",
       "    .dataframe tbody tr th:only-of-type {\n",
       "        vertical-align: middle;\n",
       "    }\n",
       "\n",
       "    .dataframe tbody tr th {\n",
       "        vertical-align: top;\n",
       "    }\n",
       "\n",
       "    .dataframe thead th {\n",
       "        text-align: right;\n",
       "    }\n",
       "</style>\n",
       "<table border=\"1\" class=\"dataframe\">\n",
       "  <thead>\n",
       "    <tr style=\"text-align: right;\">\n",
       "      <th></th>\n",
       "      <th>dob</th>\n",
       "      <th>full_name</th>\n",
       "      <th>email</th>\n",
       "      <th>medication</th>\n",
       "      <th>dosage</th>\n",
       "      <th>quantity</th>\n",
       "      <th>date</th>\n",
       "    </tr>\n",
       "  </thead>\n",
       "  <tbody>\n",
       "    <tr>\n",
       "      <th>0</th>\n",
       "      <td>11/03/98</td>\n",
       "      <td>Alec Matthews</td>\n",
       "      <td>alec.philip.matthews@gmail.com</td>\n",
       "      <td>med1</td>\n",
       "      <td>2mg</td>\n",
       "      <td>32</td>\n",
       "      <td>07/08/21</td>\n",
       "    </tr>\n",
       "    <tr>\n",
       "      <th>1</th>\n",
       "      <td>11/03/98</td>\n",
       "      <td>Alec Matthews</td>\n",
       "      <td>alec.philip.matthews@gmail.com</td>\n",
       "      <td>med2</td>\n",
       "      <td>4mg</td>\n",
       "      <td>64</td>\n",
       "      <td>07/08/21</td>\n",
       "    </tr>\n",
       "    <tr>\n",
       "      <th>2</th>\n",
       "      <td>11/03/98</td>\n",
       "      <td>Alec Matthews</td>\n",
       "      <td>alec.philip.matthews@gmail.com</td>\n",
       "      <td>med3</td>\n",
       "      <td>8mg</td>\n",
       "      <td>128</td>\n",
       "      <td>07/08/21</td>\n",
       "    </tr>\n",
       "    <tr>\n",
       "      <th>3</th>\n",
       "      <td>11/03/98</td>\n",
       "      <td>Alec Matthews</td>\n",
       "      <td>alec.philip.matthews@gmail.com</td>\n",
       "      <td>med4</td>\n",
       "      <td>16mg</td>\n",
       "      <td>256</td>\n",
       "      <td>07/08/21</td>\n",
       "    </tr>\n",
       "    <tr>\n",
       "      <th>8</th>\n",
       "      <td>21/06/57</td>\n",
       "      <td>Edward Skill</td>\n",
       "      <td>ed.skil@gmail.com</td>\n",
       "      <td>med2</td>\n",
       "      <td>4mg</td>\n",
       "      <td>64</td>\n",
       "      <td>08/08/21</td>\n",
       "    </tr>\n",
       "    <tr>\n",
       "      <th>9</th>\n",
       "      <td>21/06/57</td>\n",
       "      <td>Edward Skill</td>\n",
       "      <td>ed.skil@gmail.com</td>\n",
       "      <td>med3</td>\n",
       "      <td>8mg</td>\n",
       "      <td>128</td>\n",
       "      <td>08/08/21</td>\n",
       "    </tr>\n",
       "    <tr>\n",
       "      <th>10</th>\n",
       "      <td>21/06/57</td>\n",
       "      <td>Edward Skill</td>\n",
       "      <td>ed.skil@gmail.com</td>\n",
       "      <td>med4</td>\n",
       "      <td>16mg</td>\n",
       "      <td>256</td>\n",
       "      <td>08/08/21</td>\n",
       "    </tr>\n",
       "    <tr>\n",
       "      <th>4</th>\n",
       "      <td>15/04/68</td>\n",
       "      <td>Patrick School</td>\n",
       "      <td>pat.skol@gmail.com</td>\n",
       "      <td>med1</td>\n",
       "      <td>2mg</td>\n",
       "      <td>32</td>\n",
       "      <td>08/08/21</td>\n",
       "    </tr>\n",
       "    <tr>\n",
       "      <th>5</th>\n",
       "      <td>15/04/68</td>\n",
       "      <td>Patrick School</td>\n",
       "      <td>pat.skol@gmail.com</td>\n",
       "      <td>med2</td>\n",
       "      <td>4mg</td>\n",
       "      <td>64</td>\n",
       "      <td>08/08/21</td>\n",
       "    </tr>\n",
       "    <tr>\n",
       "      <th>6</th>\n",
       "      <td>15/04/68</td>\n",
       "      <td>Patrick School</td>\n",
       "      <td>pat.skol@gmail.com</td>\n",
       "      <td>med3</td>\n",
       "      <td>8mg</td>\n",
       "      <td>128</td>\n",
       "      <td>08/08/21</td>\n",
       "    </tr>\n",
       "    <tr>\n",
       "      <th>7</th>\n",
       "      <td>15/04/68</td>\n",
       "      <td>Patrick School</td>\n",
       "      <td>pat.skol@gmail.com</td>\n",
       "      <td>med4</td>\n",
       "      <td>16mg</td>\n",
       "      <td>256</td>\n",
       "      <td>08/08/21</td>\n",
       "    </tr>\n",
       "  </tbody>\n",
       "</table>\n",
       "</div>"
      ],
      "text/plain": [
       "         dob       full_name                           email medication  \\\n",
       "0   11/03/98   Alec Matthews  alec.philip.matthews@gmail.com       med1   \n",
       "1   11/03/98   Alec Matthews  alec.philip.matthews@gmail.com       med2   \n",
       "2   11/03/98   Alec Matthews  alec.philip.matthews@gmail.com       med3   \n",
       "3   11/03/98   Alec Matthews  alec.philip.matthews@gmail.com       med4   \n",
       "8   21/06/57    Edward Skill               ed.skil@gmail.com       med2   \n",
       "9   21/06/57    Edward Skill               ed.skil@gmail.com       med3   \n",
       "10  21/06/57    Edward Skill               ed.skil@gmail.com       med4   \n",
       "4   15/04/68  Patrick School              pat.skol@gmail.com       med1   \n",
       "5   15/04/68  Patrick School              pat.skol@gmail.com       med2   \n",
       "6   15/04/68  Patrick School              pat.skol@gmail.com       med3   \n",
       "7   15/04/68  Patrick School              pat.skol@gmail.com       med4   \n",
       "\n",
       "   dosage  quantity      date  \n",
       "0     2mg        32  07/08/21  \n",
       "1     4mg        64  07/08/21  \n",
       "2     8mg       128  07/08/21  \n",
       "3    16mg       256  07/08/21  \n",
       "8     4mg        64  08/08/21  \n",
       "9     8mg       128  08/08/21  \n",
       "10   16mg       256  08/08/21  \n",
       "4     2mg        32  08/08/21  \n",
       "5     4mg        64  08/08/21  \n",
       "6     8mg       128  08/08/21  \n",
       "7    16mg       256  08/08/21  "
      ]
     },
     "execution_count": 4,
     "metadata": {},
     "output_type": "execute_result"
    }
   ],
   "source": [
    "ds.sort_values(['full_name', 'date'], ascending=[True,False])"
   ]
  },
  {
   "cell_type": "code",
   "execution_count": 5,
   "metadata": {},
   "outputs": [],
   "source": [
    "ds2 = pd.DataFrame([['33/3/3','swansten beans','swansten@hotmail.com','drugs!','12mg','128','20/08/21']], columns=columns)"
   ]
  },
  {
   "cell_type": "code",
   "execution_count": 6,
   "metadata": {},
   "outputs": [],
   "source": [
    "ds = ds.append(ds2)"
   ]
  },
  {
   "cell_type": "code",
   "execution_count": 7,
   "metadata": {},
   "outputs": [
    {
     "name": "stdout",
     "output_type": "stream",
     "text": [
      "Alec Matthews\n",
      "0\n",
      "Alec Matthews\n",
      "1\n",
      "Alec Matthews\n",
      "2\n",
      "Alec Matthews\n",
      "3\n",
      "Patrick School\n",
      "4\n",
      "Patrick School\n",
      "5\n",
      "Patrick School\n",
      "6\n",
      "Patrick School\n",
      "7\n",
      "Edward Skill\n",
      "8\n",
      "Edward Skill\n",
      "9\n",
      "Edward Skill\n",
      "10\n",
      "swansten beans\n",
      "11\n"
     ]
    }
   ],
   "source": [
    "for num, i in enumerate(ds['full_name']):\n",
    "    print(i)\n",
    "    print(num)"
   ]
  },
  {
   "cell_type": "code",
   "execution_count": 8,
   "metadata": {},
   "outputs": [
    {
     "data": {
      "text/plain": [
       "0     True\n",
       "0    False\n",
       "Name: full_name, dtype: bool"
      ]
     },
     "execution_count": 8,
     "metadata": {},
     "output_type": "execute_result"
    }
   ],
   "source": [
    "ds['full_name'][0] == ds['full_name'][1]"
   ]
  },
  {
   "cell_type": "code",
   "execution_count": 9,
   "metadata": {
    "scrolled": true
   },
   "outputs": [
    {
     "data": {
      "text/html": [
       "<div>\n",
       "<style scoped>\n",
       "    .dataframe tbody tr th:only-of-type {\n",
       "        vertical-align: middle;\n",
       "    }\n",
       "\n",
       "    .dataframe tbody tr th {\n",
       "        vertical-align: top;\n",
       "    }\n",
       "\n",
       "    .dataframe thead th {\n",
       "        text-align: right;\n",
       "    }\n",
       "</style>\n",
       "<table border=\"1\" class=\"dataframe\">\n",
       "  <thead>\n",
       "    <tr style=\"text-align: right;\">\n",
       "      <th></th>\n",
       "      <th>dob</th>\n",
       "      <th>full_name</th>\n",
       "      <th>email</th>\n",
       "      <th>medication</th>\n",
       "      <th>dosage</th>\n",
       "      <th>quantity</th>\n",
       "      <th>date</th>\n",
       "    </tr>\n",
       "  </thead>\n",
       "  <tbody>\n",
       "    <tr>\n",
       "      <th>0</th>\n",
       "      <td>11/03/98</td>\n",
       "      <td>Alec Matthews</td>\n",
       "      <td>alec.philip.matthews@gmail.com</td>\n",
       "      <td>med1</td>\n",
       "      <td>2mg</td>\n",
       "      <td>32</td>\n",
       "      <td>07/08/21</td>\n",
       "    </tr>\n",
       "    <tr>\n",
       "      <th>1</th>\n",
       "      <td>11/03/98</td>\n",
       "      <td>Alec Matthews</td>\n",
       "      <td>alec.philip.matthews@gmail.com</td>\n",
       "      <td>med2</td>\n",
       "      <td>4mg</td>\n",
       "      <td>64</td>\n",
       "      <td>07/08/21</td>\n",
       "    </tr>\n",
       "    <tr>\n",
       "      <th>2</th>\n",
       "      <td>11/03/98</td>\n",
       "      <td>Alec Matthews</td>\n",
       "      <td>alec.philip.matthews@gmail.com</td>\n",
       "      <td>med3</td>\n",
       "      <td>8mg</td>\n",
       "      <td>128</td>\n",
       "      <td>07/08/21</td>\n",
       "    </tr>\n",
       "    <tr>\n",
       "      <th>3</th>\n",
       "      <td>11/03/98</td>\n",
       "      <td>Alec Matthews</td>\n",
       "      <td>alec.philip.matthews@gmail.com</td>\n",
       "      <td>med4</td>\n",
       "      <td>16mg</td>\n",
       "      <td>256</td>\n",
       "      <td>07/08/21</td>\n",
       "    </tr>\n",
       "    <tr>\n",
       "      <th>4</th>\n",
       "      <td>15/04/68</td>\n",
       "      <td>Patrick School</td>\n",
       "      <td>pat.skol@gmail.com</td>\n",
       "      <td>med1</td>\n",
       "      <td>2mg</td>\n",
       "      <td>32</td>\n",
       "      <td>08/08/21</td>\n",
       "    </tr>\n",
       "    <tr>\n",
       "      <th>5</th>\n",
       "      <td>15/04/68</td>\n",
       "      <td>Patrick School</td>\n",
       "      <td>pat.skol@gmail.com</td>\n",
       "      <td>med2</td>\n",
       "      <td>4mg</td>\n",
       "      <td>64</td>\n",
       "      <td>08/08/21</td>\n",
       "    </tr>\n",
       "    <tr>\n",
       "      <th>6</th>\n",
       "      <td>15/04/68</td>\n",
       "      <td>Patrick School</td>\n",
       "      <td>pat.skol@gmail.com</td>\n",
       "      <td>med3</td>\n",
       "      <td>8mg</td>\n",
       "      <td>128</td>\n",
       "      <td>08/08/21</td>\n",
       "    </tr>\n",
       "    <tr>\n",
       "      <th>7</th>\n",
       "      <td>15/04/68</td>\n",
       "      <td>Patrick School</td>\n",
       "      <td>pat.skol@gmail.com</td>\n",
       "      <td>med4</td>\n",
       "      <td>16mg</td>\n",
       "      <td>256</td>\n",
       "      <td>08/08/21</td>\n",
       "    </tr>\n",
       "    <tr>\n",
       "      <th>8</th>\n",
       "      <td>21/06/57</td>\n",
       "      <td>Edward Skill</td>\n",
       "      <td>ed.skil@gmail.com</td>\n",
       "      <td>med2</td>\n",
       "      <td>4mg</td>\n",
       "      <td>64</td>\n",
       "      <td>08/08/21</td>\n",
       "    </tr>\n",
       "    <tr>\n",
       "      <th>9</th>\n",
       "      <td>21/06/57</td>\n",
       "      <td>Edward Skill</td>\n",
       "      <td>ed.skil@gmail.com</td>\n",
       "      <td>med3</td>\n",
       "      <td>8mg</td>\n",
       "      <td>128</td>\n",
       "      <td>08/08/21</td>\n",
       "    </tr>\n",
       "    <tr>\n",
       "      <th>10</th>\n",
       "      <td>21/06/57</td>\n",
       "      <td>Edward Skill</td>\n",
       "      <td>ed.skil@gmail.com</td>\n",
       "      <td>med4</td>\n",
       "      <td>16mg</td>\n",
       "      <td>256</td>\n",
       "      <td>08/08/21</td>\n",
       "    </tr>\n",
       "    <tr>\n",
       "      <th>0</th>\n",
       "      <td>33/3/3</td>\n",
       "      <td>swansten beans</td>\n",
       "      <td>swansten@hotmail.com</td>\n",
       "      <td>drugs!</td>\n",
       "      <td>12mg</td>\n",
       "      <td>128</td>\n",
       "      <td>20/08/21</td>\n",
       "    </tr>\n",
       "  </tbody>\n",
       "</table>\n",
       "</div>"
      ],
      "text/plain": [
       "         dob       full_name                           email medication  \\\n",
       "0   11/03/98   Alec Matthews  alec.philip.matthews@gmail.com       med1   \n",
       "1   11/03/98   Alec Matthews  alec.philip.matthews@gmail.com       med2   \n",
       "2   11/03/98   Alec Matthews  alec.philip.matthews@gmail.com       med3   \n",
       "3   11/03/98   Alec Matthews  alec.philip.matthews@gmail.com       med4   \n",
       "4   15/04/68  Patrick School              pat.skol@gmail.com       med1   \n",
       "5   15/04/68  Patrick School              pat.skol@gmail.com       med2   \n",
       "6   15/04/68  Patrick School              pat.skol@gmail.com       med3   \n",
       "7   15/04/68  Patrick School              pat.skol@gmail.com       med4   \n",
       "8   21/06/57    Edward Skill               ed.skil@gmail.com       med2   \n",
       "9   21/06/57    Edward Skill               ed.skil@gmail.com       med3   \n",
       "10  21/06/57    Edward Skill               ed.skil@gmail.com       med4   \n",
       "0     33/3/3  swansten beans            swansten@hotmail.com     drugs!   \n",
       "\n",
       "   dosage quantity      date  \n",
       "0     2mg       32  07/08/21  \n",
       "1     4mg       64  07/08/21  \n",
       "2     8mg      128  07/08/21  \n",
       "3    16mg      256  07/08/21  \n",
       "4     2mg       32  08/08/21  \n",
       "5     4mg       64  08/08/21  \n",
       "6     8mg      128  08/08/21  \n",
       "7    16mg      256  08/08/21  \n",
       "8     4mg       64  08/08/21  \n",
       "9     8mg      128  08/08/21  \n",
       "10   16mg      256  08/08/21  \n",
       "0    12mg      128  20/08/21  "
      ]
     },
     "execution_count": 9,
     "metadata": {},
     "output_type": "execute_result"
    }
   ],
   "source": [
    "ds"
   ]
  },
  {
   "cell_type": "code",
   "execution_count": 51,
   "metadata": {},
   "outputs": [
    {
     "ename": "ValueError",
     "evalue": "The truth value of a Series is ambiguous. Use a.empty, a.bool(), a.item(), a.any() or a.all().",
     "output_type": "error",
     "traceback": [
      "\u001b[0;31m---------------------------------------------------------------------------\u001b[0m",
      "\u001b[0;31mValueError\u001b[0m                                Traceback (most recent call last)",
      "\u001b[0;32m<ipython-input-51-907b2db7389d>\u001b[0m in \u001b[0;36m<module>\u001b[0;34m\u001b[0m\n\u001b[0;32m----> 1\u001b[0;31m \u001b[0;34m[\u001b[0m\u001b[0;36m1\u001b[0m \u001b[0;32mif\u001b[0m \u001b[0;34m(\u001b[0m\u001b[0;34m(\u001b[0m\u001b[0mds\u001b[0m\u001b[0;34m[\u001b[0m\u001b[0;34m'full_name'\u001b[0m\u001b[0;34m]\u001b[0m\u001b[0;34m[\u001b[0m\u001b[0mi\u001b[0m\u001b[0;34m]\u001b[0m \u001b[0;34m!=\u001b[0m \u001b[0mds\u001b[0m\u001b[0;34m[\u001b[0m\u001b[0;34m'full_name'\u001b[0m\u001b[0;34m]\u001b[0m\u001b[0;34m[\u001b[0m\u001b[0mi\u001b[0m\u001b[0;34m-\u001b[0m\u001b[0;36m1\u001b[0m\u001b[0;34m]\u001b[0m\u001b[0;34m)\u001b[0m \u001b[0;32mor\u001b[0m \u001b[0;34m(\u001b[0m\u001b[0mds\u001b[0m\u001b[0;34m[\u001b[0m\u001b[0;34m'dob'\u001b[0m\u001b[0;34m]\u001b[0m\u001b[0;34m[\u001b[0m\u001b[0mi\u001b[0m\u001b[0;34m]\u001b[0m \u001b[0;34m!=\u001b[0m \u001b[0mds\u001b[0m\u001b[0;34m[\u001b[0m\u001b[0;34m'dob'\u001b[0m\u001b[0;34m]\u001b[0m\u001b[0;34m[\u001b[0m\u001b[0mi\u001b[0m\u001b[0;34m-\u001b[0m\u001b[0;36m1\u001b[0m\u001b[0;34m]\u001b[0m\u001b[0;34m)\u001b[0m\u001b[0;34m)\u001b[0m \u001b[0;32melse\u001b[0m \u001b[0;36m0\u001b[0m \u001b[0;32mfor\u001b[0m \u001b[0mi\u001b[0m \u001b[0;32min\u001b[0m \u001b[0mrange\u001b[0m\u001b[0;34m(\u001b[0m\u001b[0;36m1\u001b[0m\u001b[0;34m,\u001b[0m\u001b[0mds\u001b[0m\u001b[0;34m[\u001b[0m\u001b[0;34m'full_name'\u001b[0m\u001b[0;34m]\u001b[0m\u001b[0;34m.\u001b[0m\u001b[0mshape\u001b[0m\u001b[0;34m[\u001b[0m\u001b[0;36m0\u001b[0m\u001b[0;34m]\u001b[0m\u001b[0;34m)\u001b[0m\u001b[0;34m]\u001b[0m\u001b[0;34m\u001b[0m\u001b[0;34m\u001b[0m\u001b[0m\n\u001b[0m",
      "\u001b[0;32m<ipython-input-51-907b2db7389d>\u001b[0m in \u001b[0;36m<listcomp>\u001b[0;34m(.0)\u001b[0m\n\u001b[0;32m----> 1\u001b[0;31m \u001b[0;34m[\u001b[0m\u001b[0;36m1\u001b[0m \u001b[0;32mif\u001b[0m \u001b[0;34m(\u001b[0m\u001b[0;34m(\u001b[0m\u001b[0mds\u001b[0m\u001b[0;34m[\u001b[0m\u001b[0;34m'full_name'\u001b[0m\u001b[0;34m]\u001b[0m\u001b[0;34m[\u001b[0m\u001b[0mi\u001b[0m\u001b[0;34m]\u001b[0m \u001b[0;34m!=\u001b[0m \u001b[0mds\u001b[0m\u001b[0;34m[\u001b[0m\u001b[0;34m'full_name'\u001b[0m\u001b[0;34m]\u001b[0m\u001b[0;34m[\u001b[0m\u001b[0mi\u001b[0m\u001b[0;34m-\u001b[0m\u001b[0;36m1\u001b[0m\u001b[0;34m]\u001b[0m\u001b[0;34m)\u001b[0m \u001b[0;32mor\u001b[0m \u001b[0;34m(\u001b[0m\u001b[0mds\u001b[0m\u001b[0;34m[\u001b[0m\u001b[0;34m'dob'\u001b[0m\u001b[0;34m]\u001b[0m\u001b[0;34m[\u001b[0m\u001b[0mi\u001b[0m\u001b[0;34m]\u001b[0m \u001b[0;34m!=\u001b[0m \u001b[0mds\u001b[0m\u001b[0;34m[\u001b[0m\u001b[0;34m'dob'\u001b[0m\u001b[0;34m]\u001b[0m\u001b[0;34m[\u001b[0m\u001b[0mi\u001b[0m\u001b[0;34m-\u001b[0m\u001b[0;36m1\u001b[0m\u001b[0;34m]\u001b[0m\u001b[0;34m)\u001b[0m\u001b[0;34m)\u001b[0m \u001b[0;32melse\u001b[0m \u001b[0;36m0\u001b[0m \u001b[0;32mfor\u001b[0m \u001b[0mi\u001b[0m \u001b[0;32min\u001b[0m \u001b[0mrange\u001b[0m\u001b[0;34m(\u001b[0m\u001b[0;36m1\u001b[0m\u001b[0;34m,\u001b[0m\u001b[0mds\u001b[0m\u001b[0;34m[\u001b[0m\u001b[0;34m'full_name'\u001b[0m\u001b[0;34m]\u001b[0m\u001b[0;34m.\u001b[0m\u001b[0mshape\u001b[0m\u001b[0;34m[\u001b[0m\u001b[0;36m0\u001b[0m\u001b[0;34m]\u001b[0m\u001b[0;34m)\u001b[0m\u001b[0;34m]\u001b[0m\u001b[0;34m\u001b[0m\u001b[0;34m\u001b[0m\u001b[0m\n\u001b[0m",
      "\u001b[0;32m/home/alec/snap/jupyter/common/lib/python3.7/site-packages/pandas/core/generic.py\u001b[0m in \u001b[0;36m__nonzero__\u001b[0;34m(self)\u001b[0m\n\u001b[1;32m   1441\u001b[0m     \u001b[0;32mdef\u001b[0m \u001b[0m__nonzero__\u001b[0m\u001b[0;34m(\u001b[0m\u001b[0mself\u001b[0m\u001b[0;34m)\u001b[0m\u001b[0;34m:\u001b[0m\u001b[0;34m\u001b[0m\u001b[0;34m\u001b[0m\u001b[0m\n\u001b[1;32m   1442\u001b[0m         raise ValueError(\n\u001b[0;32m-> 1443\u001b[0;31m             \u001b[0;34mf\"The truth value of a {type(self).__name__} is ambiguous. \"\u001b[0m\u001b[0;34m\u001b[0m\u001b[0;34m\u001b[0m\u001b[0m\n\u001b[0m\u001b[1;32m   1444\u001b[0m             \u001b[0;34m\"Use a.empty, a.bool(), a.item(), a.any() or a.all().\"\u001b[0m\u001b[0;34m\u001b[0m\u001b[0;34m\u001b[0m\u001b[0m\n\u001b[1;32m   1445\u001b[0m         )\n",
      "\u001b[0;31mValueError\u001b[0m: The truth value of a Series is ambiguous. Use a.empty, a.bool(), a.item(), a.any() or a.all()."
     ]
    }
   ],
   "source": [
    "[1 if ((ds['full_name'][i] != ds['full_name'][i-1]) or (ds['dob'][i] != ds['dob'][i-1])) else 0 for i in range(1,ds['full_name'].shape[0])]"
   ]
  },
  {
   "cell_type": "code",
   "execution_count": 14,
   "metadata": {},
   "outputs": [
    {
     "ename": "SyntaxError",
     "evalue": "invalid syntax (<ipython-input-14-c5d110537907>, line 1)",
     "output_type": "error",
     "traceback": [
      "\u001b[0;36m  File \u001b[0;32m\"<ipython-input-14-c5d110537907>\"\u001b[0;36m, line \u001b[0;32m1\u001b[0m\n\u001b[0;31m    [n, i for n, i in enumerate(ds['full_name'])]\u001b[0m\n\u001b[0m            ^\u001b[0m\n\u001b[0;31mSyntaxError\u001b[0m\u001b[0;31m:\u001b[0m invalid syntax\n"
     ]
    }
   ],
   "source": [
    "[n, i for n, i in enumerate(ds['full_name'])]"
   ]
  },
  {
   "cell_type": "code",
   "execution_count": 19,
   "metadata": {},
   "outputs": [
    {
     "ename": "SyntaxError",
     "evalue": "invalid syntax (<ipython-input-19-d855525afc38>, line 2)",
     "output_type": "error",
     "traceback": [
      "\u001b[0;36m  File \u001b[0;32m\"<ipython-input-19-d855525afc38>\"\u001b[0;36m, line \u001b[0;32m2\u001b[0m\n\u001b[0;31m    [x++ if pair[0] == ds['full_name'][pair[1]-1] else x=0 for pair in enumerate(ds['full_name'])]\u001b[0m\n\u001b[0m          ^\u001b[0m\n\u001b[0;31mSyntaxError\u001b[0m\u001b[0;31m:\u001b[0m invalid syntax\n"
     ]
    }
   ],
   "source": [
    "x=0\n",
    "[x++ if pair[0] == ds['full_name'][pair[1]-1] else x=0 for pair in enumerate(ds['full_name'])]"
   ]
  },
  {
   "cell_type": "code",
   "execution_count": 132,
   "metadata": {},
   "outputs": [
    {
     "data": {
      "text/html": [
       "<div>\n",
       "<style scoped>\n",
       "    .dataframe tbody tr th:only-of-type {\n",
       "        vertical-align: middle;\n",
       "    }\n",
       "\n",
       "    .dataframe tbody tr th {\n",
       "        vertical-align: top;\n",
       "    }\n",
       "\n",
       "    .dataframe thead th {\n",
       "        text-align: right;\n",
       "    }\n",
       "</style>\n",
       "<table border=\"1\" class=\"dataframe\">\n",
       "  <thead>\n",
       "    <tr style=\"text-align: right;\">\n",
       "      <th></th>\n",
       "      <th>dob</th>\n",
       "      <th>full_name</th>\n",
       "      <th>email</th>\n",
       "      <th>medication</th>\n",
       "      <th>dosage</th>\n",
       "      <th>quantity</th>\n",
       "      <th>date</th>\n",
       "    </tr>\n",
       "  </thead>\n",
       "  <tbody>\n",
       "    <tr>\n",
       "      <th>0</th>\n",
       "      <td>11/03/98</td>\n",
       "      <td>Alec Matthews</td>\n",
       "      <td>alec.philip.matthews@gmail.com</td>\n",
       "      <td>med1</td>\n",
       "      <td>2mg</td>\n",
       "      <td>32</td>\n",
       "      <td>07/08/21</td>\n",
       "    </tr>\n",
       "    <tr>\n",
       "      <th>1</th>\n",
       "      <td>11/03/98</td>\n",
       "      <td>Alec Matthews</td>\n",
       "      <td>alec.philip.matthews@gmail.com</td>\n",
       "      <td>med2</td>\n",
       "      <td>4mg</td>\n",
       "      <td>64</td>\n",
       "      <td>08/08/21</td>\n",
       "    </tr>\n",
       "    <tr>\n",
       "      <th>2</th>\n",
       "      <td>11/03/98</td>\n",
       "      <td>Alec Matthews</td>\n",
       "      <td>alec.philip.matthews@gmail.com</td>\n",
       "      <td>med3</td>\n",
       "      <td>8mg</td>\n",
       "      <td>128</td>\n",
       "      <td>09/08/21</td>\n",
       "    </tr>\n",
       "    <tr>\n",
       "      <th>3</th>\n",
       "      <td>11/03/98</td>\n",
       "      <td>Alec Matthews</td>\n",
       "      <td>alec.philip.matthews@gmail.com</td>\n",
       "      <td>med4</td>\n",
       "      <td>16mg</td>\n",
       "      <td>256</td>\n",
       "      <td>10/08/21</td>\n",
       "    </tr>\n",
       "    <tr>\n",
       "      <th>0</th>\n",
       "      <td>22/2/22</td>\n",
       "      <td>Boris John</td>\n",
       "      <td>boris@hotmail.com</td>\n",
       "      <td>amotriptiplyene</td>\n",
       "      <td>12mg</td>\n",
       "      <td>128</td>\n",
       "      <td>08/08/21</td>\n",
       "    </tr>\n",
       "  </tbody>\n",
       "</table>\n",
       "</div>"
      ],
      "text/plain": [
       "        dob      full_name                           email       medication  \\\n",
       "0  11/03/98  Alec Matthews  alec.philip.matthews@gmail.com             med1   \n",
       "1  11/03/98  Alec Matthews  alec.philip.matthews@gmail.com             med2   \n",
       "2  11/03/98  Alec Matthews  alec.philip.matthews@gmail.com             med3   \n",
       "3  11/03/98  Alec Matthews  alec.philip.matthews@gmail.com             med4   \n",
       "0   22/2/22     Boris John               boris@hotmail.com  amotriptiplyene   \n",
       "\n",
       "  dosage quantity      date  \n",
       "0    2mg       32  07/08/21  \n",
       "1    4mg       64  08/08/21  \n",
       "2    8mg      128  09/08/21  \n",
       "3   16mg      256  10/08/21  \n",
       "0   12mg      128  08/08/21  "
      ]
     },
     "execution_count": 132,
     "metadata": {},
     "output_type": "execute_result"
    }
   ],
   "source": [
    "ds['pt_ind'] = ds['full_name'].apply(lambda x: 1 if x )"
   ]
  },
  {
   "cell_type": "code",
   "execution_count": 134,
   "metadata": {},
   "outputs": [],
   "source": [
    "ds.to_csv?"
   ]
  },
  {
   "cell_type": "code",
   "execution_count": 10,
   "metadata": {},
   "outputs": [],
   "source": [
    "ds.to_csv('scripts.csv', index=False)"
   ]
  },
  {
   "cell_type": "code",
   "execution_count": 5,
   "metadata": {},
   "outputs": [],
   "source": [
    "ds = pd.read_csv('scripts.csv')"
   ]
  },
  {
   "cell_type": "code",
   "execution_count": 140,
   "metadata": {},
   "outputs": [],
   "source": [
    "ls = [row for row in pd.read_csv('scripts.csv').iterrows()]"
   ]
  },
  {
   "cell_type": "code",
   "execution_count": 146,
   "metadata": {},
   "outputs": [
    {
     "name": "stdout",
     "output_type": "stream",
     "text": [
      "Alec Matthews\n",
      "Alec Matthews\n",
      "Alec Matthews\n",
      "Alec Matthews\n",
      "Boris John\n"
     ]
    }
   ],
   "source": [
    "for i in ls:\n",
    "    print(i[1].full_name)"
   ]
  },
  {
   "cell_type": "code",
   "execution_count": 116,
   "metadata": {},
   "outputs": [],
   "source": [
    "ls = [row for row in ds.iterrows()]"
   ]
  },
  {
   "cell_type": "code",
   "execution_count": 118,
   "metadata": {},
   "outputs": [
    {
     "data": {
      "text/plain": [
       "'Alec Matthews'"
      ]
     },
     "execution_count": 118,
     "metadata": {},
     "output_type": "execute_result"
    }
   ],
   "source": [
    "ls[0][1].full_name"
   ]
  },
  {
   "cell_type": "code",
   "execution_count": 63,
   "metadata": {},
   "outputs": [
    {
     "name": "stdout",
     "output_type": "stream",
     "text": [
      "dob                                 11/03/98\n",
      "name                           Alec Matthews\n",
      "email         alec.philip.matthews@gmail.com\n",
      "medication                              med1\n",
      "dosage                                   2mg\n",
      "quantity                                  32\n",
      "date                                07/08/21\n",
      "Name: 0, dtype: object\n",
      "dob                                 11/03/98\n",
      "name                           Alec Matthews\n",
      "email         alec.philip.matthews@gmail.com\n",
      "medication                              med2\n",
      "dosage                                   4mg\n",
      "quantity                                  64\n",
      "date                                08/08/21\n",
      "Name: 1, dtype: object\n",
      "dob                                 11/03/98\n",
      "name                           Alec Matthews\n",
      "email         alec.philip.matthews@gmail.com\n",
      "medication                              med3\n",
      "dosage                                   8mg\n",
      "quantity                                 128\n",
      "date                                09/08/21\n",
      "Name: 2, dtype: object\n",
      "dob                                 11/03/98\n",
      "name                           Alec Matthews\n",
      "email         alec.philip.matthews@gmail.com\n",
      "medication                              med4\n",
      "dosage                                  16mg\n",
      "quantity                                 256\n",
      "date                                10/08/21\n",
      "Name: 3, dtype: object\n"
     ]
    }
   ],
   "source": [
    "for row in ds.iterrows():\n",
    "    print(row[1])"
   ]
  },
  {
   "cell_type": "code",
   "execution_count": 48,
   "metadata": {},
   "outputs": [
    {
     "data": {
      "text/plain": [
       "dob                                 11/03/98\n",
       "name                           Alec Matthews\n",
       "email         alec.philip.matthews@gmail.com\n",
       "medication                              med2\n",
       "dosage                                   4mg\n",
       "quantity                                  64\n",
       "date                                08/08/21\n",
       "Name: 1, dtype: object"
      ]
     },
     "execution_count": 48,
     "metadata": {},
     "output_type": "execute_result"
    }
   ],
   "source": [
    "ds.iloc[1]"
   ]
  },
  {
   "cell_type": "code",
   "execution_count": 39,
   "metadata": {},
   "outputs": [
    {
     "name": "stdout",
     "output_type": "stream",
     "text": [
      "0    11/03/98\n",
      "1    11/03/98\n",
      "2    11/03/98\n",
      "3    11/03/98\n",
      "Name: dob, dtype: object\n",
      "0    Alec Matthews\n",
      "1    Alec Matthews\n",
      "2    Alec Matthews\n",
      "3    Alec Matthews\n",
      "Name: name, dtype: object\n",
      "0    alec.philip.matthews@gmail.com\n",
      "1    alec.philip.matthews@gmail.com\n",
      "2    alec.philip.matthews@gmail.com\n",
      "3    alec.philip.matthews@gmail.com\n",
      "Name: email, dtype: object\n",
      "0    med1\n",
      "1    med2\n",
      "2    med3\n",
      "3    med4\n",
      "Name: medication, dtype: object\n",
      "0     2mg\n",
      "1     4mg\n",
      "2     8mg\n",
      "3    16mg\n",
      "Name: dosage, dtype: object\n",
      "0     32\n",
      "1     64\n",
      "2    128\n",
      "3    256\n",
      "Name: quantity, dtype: int64\n",
      "0    07/08/21\n",
      "1    08/08/21\n",
      "2    09/08/21\n",
      "3    10/08/21\n",
      "Name: date, dtype: object\n"
     ]
    }
   ],
   "source": [
    "for i in ds.sort_values('date'):\n",
    "    print(ds[i])\n"
   ]
  },
  {
   "cell_type": "raw",
   "metadata": {},
   "source": []
  },
  {
   "cell_type": "code",
   "execution_count": null,
   "metadata": {},
   "outputs": [],
   "source": []
  },
  {
   "cell_type": "code",
   "execution_count": null,
   "metadata": {},
   "outputs": [],
   "source": []
  }
 ],
 "metadata": {
  "kernelspec": {
   "display_name": "Python 3",
   "language": "python",
   "name": "python3"
  },
  "language_info": {
   "codemirror_mode": {
    "name": "ipython",
    "version": 3
   },
   "file_extension": ".py",
   "mimetype": "text/x-python",
   "name": "python",
   "nbconvert_exporter": "python",
   "pygments_lexer": "ipython3",
   "version": "3.8.8"
  }
 },
 "nbformat": 4,
 "nbformat_minor": 2
}
