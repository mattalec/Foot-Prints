{
 "cells": [
  {
   "cell_type": "code",
   "execution_count": 51,
   "metadata": {},
   "outputs": [],
   "source": [
    "import pandas as pd"
   ]
  },
  {
   "cell_type": "code",
   "execution_count": 52,
   "metadata": {},
   "outputs": [],
   "source": [
    "columns = ['dob','full_name','email','medication','dosage','quantity', 'date']\n",
    "\n",
    "ds = pd.read_csv('prescriptions.csv', names=columns)"
   ]
  },
  {
   "cell_type": "code",
   "execution_count": 4,
   "metadata": {},
   "outputs": [
    {
     "data": {
      "text/html": [
       "<div>\n",
       "<style scoped>\n",
       "    .dataframe tbody tr th:only-of-type {\n",
       "        vertical-align: middle;\n",
       "    }\n",
       "\n",
       "    .dataframe tbody tr th {\n",
       "        vertical-align: top;\n",
       "    }\n",
       "\n",
       "    .dataframe thead th {\n",
       "        text-align: right;\n",
       "    }\n",
       "</style>\n",
       "<table border=\"1\" class=\"dataframe\">\n",
       "  <thead>\n",
       "    <tr style=\"text-align: right;\">\n",
       "      <th></th>\n",
       "      <th>dob</th>\n",
       "      <th>full_name</th>\n",
       "      <th>email</th>\n",
       "      <th>medication</th>\n",
       "      <th>dosage</th>\n",
       "      <th>quantity</th>\n",
       "      <th>date</th>\n",
       "    </tr>\n",
       "  </thead>\n",
       "  <tbody>\n",
       "    <tr>\n",
       "      <th>0</th>\n",
       "      <td>11/03/98</td>\n",
       "      <td>Alec Matthews</td>\n",
       "      <td>alec.philip.matthews@gmail.com</td>\n",
       "      <td>med1</td>\n",
       "      <td>2mg</td>\n",
       "      <td>32</td>\n",
       "      <td>07/08/21</td>\n",
       "    </tr>\n",
       "    <tr>\n",
       "      <th>1</th>\n",
       "      <td>11/03/98</td>\n",
       "      <td>Alec Matthews</td>\n",
       "      <td>alec.philip.matthews@gmail.com</td>\n",
       "      <td>med2</td>\n",
       "      <td>4mg</td>\n",
       "      <td>64</td>\n",
       "      <td>07/08/21</td>\n",
       "    </tr>\n",
       "    <tr>\n",
       "      <th>2</th>\n",
       "      <td>11/03/98</td>\n",
       "      <td>Alec Matthews</td>\n",
       "      <td>alec.philip.matthews@gmail.com</td>\n",
       "      <td>med3</td>\n",
       "      <td>8mg</td>\n",
       "      <td>128</td>\n",
       "      <td>07/08/21</td>\n",
       "    </tr>\n",
       "    <tr>\n",
       "      <th>3</th>\n",
       "      <td>11/03/98</td>\n",
       "      <td>Alec Matthews</td>\n",
       "      <td>alec.philip.matthews@gmail.com</td>\n",
       "      <td>med4</td>\n",
       "      <td>16mg</td>\n",
       "      <td>256</td>\n",
       "      <td>07/08/21</td>\n",
       "    </tr>\n",
       "    <tr>\n",
       "      <th>8</th>\n",
       "      <td>21/06/57</td>\n",
       "      <td>Edward Skill</td>\n",
       "      <td>ed.skil@gmail.com</td>\n",
       "      <td>med2</td>\n",
       "      <td>4mg</td>\n",
       "      <td>64</td>\n",
       "      <td>08/08/21</td>\n",
       "    </tr>\n",
       "    <tr>\n",
       "      <th>9</th>\n",
       "      <td>21/06/57</td>\n",
       "      <td>Edward Skill</td>\n",
       "      <td>ed.skil@gmail.com</td>\n",
       "      <td>med3</td>\n",
       "      <td>8mg</td>\n",
       "      <td>128</td>\n",
       "      <td>08/08/21</td>\n",
       "    </tr>\n",
       "    <tr>\n",
       "      <th>10</th>\n",
       "      <td>21/06/57</td>\n",
       "      <td>Edward Skill</td>\n",
       "      <td>ed.skil@gmail.com</td>\n",
       "      <td>med4</td>\n",
       "      <td>16mg</td>\n",
       "      <td>256</td>\n",
       "      <td>08/08/21</td>\n",
       "    </tr>\n",
       "    <tr>\n",
       "      <th>4</th>\n",
       "      <td>15/04/68</td>\n",
       "      <td>Patrick School</td>\n",
       "      <td>pat.skol@gmail.com</td>\n",
       "      <td>med1</td>\n",
       "      <td>2mg</td>\n",
       "      <td>32</td>\n",
       "      <td>08/08/21</td>\n",
       "    </tr>\n",
       "    <tr>\n",
       "      <th>5</th>\n",
       "      <td>15/04/68</td>\n",
       "      <td>Patrick School</td>\n",
       "      <td>pat.skol@gmail.com</td>\n",
       "      <td>med2</td>\n",
       "      <td>4mg</td>\n",
       "      <td>64</td>\n",
       "      <td>08/08/21</td>\n",
       "    </tr>\n",
       "    <tr>\n",
       "      <th>6</th>\n",
       "      <td>15/04/68</td>\n",
       "      <td>Patrick School</td>\n",
       "      <td>pat.skol@gmail.com</td>\n",
       "      <td>med3</td>\n",
       "      <td>8mg</td>\n",
       "      <td>128</td>\n",
       "      <td>08/08/21</td>\n",
       "    </tr>\n",
       "    <tr>\n",
       "      <th>7</th>\n",
       "      <td>15/04/68</td>\n",
       "      <td>Patrick School</td>\n",
       "      <td>pat.skol@gmail.com</td>\n",
       "      <td>med4</td>\n",
       "      <td>16mg</td>\n",
       "      <td>256</td>\n",
       "      <td>08/08/21</td>\n",
       "    </tr>\n",
       "  </tbody>\n",
       "</table>\n",
       "</div>"
      ],
      "text/plain": [
       "         dob       full_name                           email medication  \\\n",
       "0   11/03/98   Alec Matthews  alec.philip.matthews@gmail.com       med1   \n",
       "1   11/03/98   Alec Matthews  alec.philip.matthews@gmail.com       med2   \n",
       "2   11/03/98   Alec Matthews  alec.philip.matthews@gmail.com       med3   \n",
       "3   11/03/98   Alec Matthews  alec.philip.matthews@gmail.com       med4   \n",
       "8   21/06/57    Edward Skill               ed.skil@gmail.com       med2   \n",
       "9   21/06/57    Edward Skill               ed.skil@gmail.com       med3   \n",
       "10  21/06/57    Edward Skill               ed.skil@gmail.com       med4   \n",
       "4   15/04/68  Patrick School              pat.skol@gmail.com       med1   \n",
       "5   15/04/68  Patrick School              pat.skol@gmail.com       med2   \n",
       "6   15/04/68  Patrick School              pat.skol@gmail.com       med3   \n",
       "7   15/04/68  Patrick School              pat.skol@gmail.com       med4   \n",
       "\n",
       "   dosage  quantity      date  \n",
       "0     2mg        32  07/08/21  \n",
       "1     4mg        64  07/08/21  \n",
       "2     8mg       128  07/08/21  \n",
       "3    16mg       256  07/08/21  \n",
       "8     4mg        64  08/08/21  \n",
       "9     8mg       128  08/08/21  \n",
       "10   16mg       256  08/08/21  \n",
       "4     2mg        32  08/08/21  \n",
       "5     4mg        64  08/08/21  \n",
       "6     8mg       128  08/08/21  \n",
       "7    16mg       256  08/08/21  "
      ]
     },
     "execution_count": 4,
     "metadata": {},
     "output_type": "execute_result"
    }
   ],
   "source": [
    "ds.sort_values(['full_name', 'date'], ascending=[True,False])\n",
    "\n",
    "ds2 = pd.DataFrame([['33/3/3','swansten beans','swansten@hotmail.com','drugs!','12mg','128','20/08/21']], columns=columns)\n",
    "\n",
    "ds = ds.append(ds2)\n",
    "\n",
    "for num, i in enumerate(ds['full_name']):\n",
    "    print(i)\n",
    "    print(num)\n",
    "\n",
    "ds['full_name'][0] == ds['full_name'][1]\n",
    "\n",
    "ds\n",
    "\n",
    "[1 if ((ds['full_name'][i] != ds['full_name'][i-1]) or (ds['dob'][i] != ds['dob'][i-1])) else 0 for i in range(1,ds['full_name'].shape[0])]"
   ]
  },
  {
   "cell_type": "code",
   "execution_count": 10,
   "metadata": {},
   "outputs": [],
   "source": [
    "ds.to_csv('scripts.csv', index=False)"
   ]
  },
  {
   "cell_type": "code",
   "execution_count": 41,
   "metadata": {},
   "outputs": [
    {
     "name": "stdout",
     "output_type": "stream",
     "text": [
      "Patrick School\n",
      "Edward Skill\n",
      "Alec Matthews\n",
      "swansten beans\n"
     ]
    }
   ],
   "source": [
    "for i in set(ds.full_name):\n",
    "    print(i)"
   ]
  },
  {
   "cell_type": "code",
   "execution_count": 40,
   "metadata": {},
   "outputs": [
    {
     "ename": "TypeError",
     "evalue": "unhashable type: 'set'",
     "output_type": "error",
     "traceback": [
      "\u001b[1;31m---------------------------------------------------------------------------\u001b[0m",
      "\u001b[1;31mTypeError\u001b[0m                                 Traceback (most recent call last)",
      "\u001b[1;32m<ipython-input-40-90d54610d880>\u001b[0m in \u001b[0;36m<module>\u001b[1;34m\u001b[0m\n\u001b[1;32m----> 1\u001b[1;33m \u001b[1;33m{\u001b[0m\u001b[0mrange\u001b[0m\u001b[1;33m(\u001b[0m\u001b[0mlen\u001b[0m\u001b[1;33m(\u001b[0m\u001b[0mset\u001b[0m\u001b[1;33m(\u001b[0m\u001b[0mds\u001b[0m\u001b[1;33m.\u001b[0m\u001b[0mfull_name\u001b[0m\u001b[1;33m)\u001b[0m\u001b[1;33m)\u001b[0m\u001b[1;33m)\u001b[0m\u001b[1;33m,\u001b[0m \u001b[0mset\u001b[0m\u001b[1;33m(\u001b[0m\u001b[0mds\u001b[0m\u001b[1;33m.\u001b[0m\u001b[0mfull_name\u001b[0m\u001b[1;33m)\u001b[0m\u001b[1;33m}\u001b[0m\u001b[1;33m\u001b[0m\u001b[1;33m\u001b[0m\u001b[0m\n\u001b[0m",
      "\u001b[1;31mTypeError\u001b[0m: unhashable type: 'set'"
     ]
    }
   ],
   "source": [
    "{range(len(set(ds.full_name))), set(ds.full_name)}"
   ]
  },
  {
   "cell_type": "code",
   "execution_count": 53,
   "metadata": {},
   "outputs": [],
   "source": [
    "ds = pd.read_csv('scripts.csv')"
   ]
  },
  {
   "cell_type": "code",
   "execution_count": 62,
   "metadata": {},
   "outputs": [],
   "source": [
    "pts = {name: num for (num, name) in enumerate(ds.full_name.unique())}\n",
    "ds['pt_no'] = ds['full_name'].apply(lambda x: pts[x])"
   ]
  },
  {
   "cell_type": "code",
   "execution_count": 68,
   "metadata": {},
   "outputs": [
    {
     "data": {
      "text/plain": [
       "Patrick School    4\n",
       "Alec Matthews     4\n",
       "Edward Skill      3\n",
       "swansten beans    1\n",
       "Name: full_name, dtype: int64"
      ]
     },
     "execution_count": 68,
     "metadata": {},
     "output_type": "execute_result"
    }
   ],
   "source": [
    "ds.full_name.value_counts()"
   ]
  },
  {
   "cell_type": "code",
   "execution_count": 83,
   "metadata": {},
   "outputs": [
    {
     "name": "stdout",
     "output_type": "stream",
     "text": [
      "0\n",
      "Alec Matthews\n",
      "1\n",
      "Alec Matthews\n",
      "2\n",
      "Alec Matthews\n",
      "3\n",
      "Alec Matthews\n",
      "0\n",
      "Patrick School\n",
      "1\n",
      "Patrick School\n",
      "2\n",
      "Patrick School\n",
      "3\n",
      "Patrick School\n",
      "0\n",
      "Edward Skill\n",
      "1\n",
      "Edward Skill\n",
      "2\n",
      "Edward Skill\n",
      "0\n",
      "swansten beans\n"
     ]
    }
   ],
   "source": [
    "for num, i in enumerate(ds.full_name):\n",
    "    if num != 0:\n",
    "        if i == ds.full_name[num-1]:\n",
    "            x+=1\n",
    "        else:\n",
    "            x = 0\n",
    "    print(i)\n",
    "    print(x)    "
   ]
  },
  {
   "cell_type": "code",
   "execution_count": 67,
   "metadata": {},
   "outputs": [
    {
     "data": {
      "text/html": [
       "<div>\n",
       "<style scoped>\n",
       "    .dataframe tbody tr th:only-of-type {\n",
       "        vertical-align: middle;\n",
       "    }\n",
       "\n",
       "    .dataframe tbody tr th {\n",
       "        vertical-align: top;\n",
       "    }\n",
       "\n",
       "    .dataframe thead th {\n",
       "        text-align: right;\n",
       "    }\n",
       "</style>\n",
       "<table border=\"1\" class=\"dataframe\">\n",
       "  <thead>\n",
       "    <tr style=\"text-align: right;\">\n",
       "      <th></th>\n",
       "      <th>dob</th>\n",
       "      <th>full_name</th>\n",
       "      <th>email</th>\n",
       "      <th>medication</th>\n",
       "      <th>dosage</th>\n",
       "      <th>quantity</th>\n",
       "      <th>date</th>\n",
       "      <th>pt_no</th>\n",
       "    </tr>\n",
       "  </thead>\n",
       "  <tbody>\n",
       "    <tr>\n",
       "      <th>0</th>\n",
       "      <td>11/03/98</td>\n",
       "      <td>Alec Matthews</td>\n",
       "      <td>alec.philip.matthews@gmail.com</td>\n",
       "      <td>med1</td>\n",
       "      <td>2mg</td>\n",
       "      <td>32</td>\n",
       "      <td>07/08/21</td>\n",
       "      <td>0</td>\n",
       "    </tr>\n",
       "    <tr>\n",
       "      <th>1</th>\n",
       "      <td>11/03/98</td>\n",
       "      <td>Alec Matthews</td>\n",
       "      <td>alec.philip.matthews@gmail.com</td>\n",
       "      <td>med2</td>\n",
       "      <td>4mg</td>\n",
       "      <td>64</td>\n",
       "      <td>07/08/21</td>\n",
       "      <td>0</td>\n",
       "    </tr>\n",
       "    <tr>\n",
       "      <th>2</th>\n",
       "      <td>11/03/98</td>\n",
       "      <td>Alec Matthews</td>\n",
       "      <td>alec.philip.matthews@gmail.com</td>\n",
       "      <td>med3</td>\n",
       "      <td>8mg</td>\n",
       "      <td>128</td>\n",
       "      <td>07/08/21</td>\n",
       "      <td>0</td>\n",
       "    </tr>\n",
       "    <tr>\n",
       "      <th>3</th>\n",
       "      <td>11/03/98</td>\n",
       "      <td>Alec Matthews</td>\n",
       "      <td>alec.philip.matthews@gmail.com</td>\n",
       "      <td>med4</td>\n",
       "      <td>16mg</td>\n",
       "      <td>256</td>\n",
       "      <td>07/08/21</td>\n",
       "      <td>0</td>\n",
       "    </tr>\n",
       "    <tr>\n",
       "      <th>4</th>\n",
       "      <td>15/04/68</td>\n",
       "      <td>Patrick School</td>\n",
       "      <td>pat.skol@gmail.com</td>\n",
       "      <td>med1</td>\n",
       "      <td>2mg</td>\n",
       "      <td>32</td>\n",
       "      <td>08/08/21</td>\n",
       "      <td>1</td>\n",
       "    </tr>\n",
       "    <tr>\n",
       "      <th>5</th>\n",
       "      <td>15/04/68</td>\n",
       "      <td>Patrick School</td>\n",
       "      <td>pat.skol@gmail.com</td>\n",
       "      <td>med2</td>\n",
       "      <td>4mg</td>\n",
       "      <td>64</td>\n",
       "      <td>08/08/21</td>\n",
       "      <td>1</td>\n",
       "    </tr>\n",
       "    <tr>\n",
       "      <th>6</th>\n",
       "      <td>15/04/68</td>\n",
       "      <td>Patrick School</td>\n",
       "      <td>pat.skol@gmail.com</td>\n",
       "      <td>med3</td>\n",
       "      <td>8mg</td>\n",
       "      <td>128</td>\n",
       "      <td>08/08/21</td>\n",
       "      <td>1</td>\n",
       "    </tr>\n",
       "    <tr>\n",
       "      <th>7</th>\n",
       "      <td>15/04/68</td>\n",
       "      <td>Patrick School</td>\n",
       "      <td>pat.skol@gmail.com</td>\n",
       "      <td>med4</td>\n",
       "      <td>16mg</td>\n",
       "      <td>256</td>\n",
       "      <td>08/08/21</td>\n",
       "      <td>1</td>\n",
       "    </tr>\n",
       "    <tr>\n",
       "      <th>8</th>\n",
       "      <td>21/06/57</td>\n",
       "      <td>Edward Skill</td>\n",
       "      <td>ed.skil@gmail.com</td>\n",
       "      <td>med2</td>\n",
       "      <td>4mg</td>\n",
       "      <td>64</td>\n",
       "      <td>08/08/21</td>\n",
       "      <td>2</td>\n",
       "    </tr>\n",
       "    <tr>\n",
       "      <th>9</th>\n",
       "      <td>21/06/57</td>\n",
       "      <td>Edward Skill</td>\n",
       "      <td>ed.skil@gmail.com</td>\n",
       "      <td>med3</td>\n",
       "      <td>8mg</td>\n",
       "      <td>128</td>\n",
       "      <td>08/08/21</td>\n",
       "      <td>2</td>\n",
       "    </tr>\n",
       "  </tbody>\n",
       "</table>\n",
       "</div>"
      ],
      "text/plain": [
       "        dob       full_name                           email medication dosage  \\\n",
       "0  11/03/98   Alec Matthews  alec.philip.matthews@gmail.com       med1    2mg   \n",
       "1  11/03/98   Alec Matthews  alec.philip.matthews@gmail.com       med2    4mg   \n",
       "2  11/03/98   Alec Matthews  alec.philip.matthews@gmail.com       med3    8mg   \n",
       "3  11/03/98   Alec Matthews  alec.philip.matthews@gmail.com       med4   16mg   \n",
       "4  15/04/68  Patrick School              pat.skol@gmail.com       med1    2mg   \n",
       "5  15/04/68  Patrick School              pat.skol@gmail.com       med2    4mg   \n",
       "6  15/04/68  Patrick School              pat.skol@gmail.com       med3    8mg   \n",
       "7  15/04/68  Patrick School              pat.skol@gmail.com       med4   16mg   \n",
       "8  21/06/57    Edward Skill               ed.skil@gmail.com       med2    4mg   \n",
       "9  21/06/57    Edward Skill               ed.skil@gmail.com       med3    8mg   \n",
       "\n",
       "   quantity      date  pt_no  \n",
       "0        32  07/08/21      0  \n",
       "1        64  07/08/21      0  \n",
       "2       128  07/08/21      0  \n",
       "3       256  07/08/21      0  \n",
       "4        32  08/08/21      1  \n",
       "5        64  08/08/21      1  \n",
       "6       128  08/08/21      1  \n",
       "7       256  08/08/21      1  \n",
       "8        64  08/08/21      2  \n",
       "9       128  08/08/21      2  "
      ]
     },
     "execution_count": 67,
     "metadata": {},
     "output_type": "execute_result"
    }
   ],
   "source": [
    "ds.head(10)"
   ]
  },
  {
   "cell_type": "code",
   "execution_count": 34,
   "metadata": {},
   "outputs": [
    {
     "data": {
      "text/plain": [
       "'08/08/21'"
      ]
     },
     "execution_count": 34,
     "metadata": {},
     "output_type": "execute_result"
    }
   ],
   "source": [
    "ds.iloc[4]['date']"
   ]
  },
  {
   "cell_type": "code",
   "execution_count": 35,
   "metadata": {},
   "outputs": [
    {
     "name": "stderr",
     "output_type": "stream",
     "text": [
      "<ipython-input-35-872ec59ae07f>:1: SettingWithCopyWarning: \n",
      "A value is trying to be set on a copy of a slice from a DataFrame\n",
      "\n",
      "See the caveats in the documentation: https://pandas.pydata.org/pandas-docs/stable/user_guide/indexing.html#returning-a-view-versus-a-copy\n",
      "  ds.iloc[4]['date'] = '06/08/21'\n"
     ]
    }
   ],
   "source": [
    "ds.iloc[4]['date'] = '06/08/21'"
   ]
  },
  {
   "cell_type": "code",
   "execution_count": 6,
   "metadata": {},
   "outputs": [
    {
     "data": {
      "text/html": [
       "<div>\n",
       "<style scoped>\n",
       "    .dataframe tbody tr th:only-of-type {\n",
       "        vertical-align: middle;\n",
       "    }\n",
       "\n",
       "    .dataframe tbody tr th {\n",
       "        vertical-align: top;\n",
       "    }\n",
       "\n",
       "    .dataframe thead th {\n",
       "        text-align: right;\n",
       "    }\n",
       "</style>\n",
       "<table border=\"1\" class=\"dataframe\">\n",
       "  <thead>\n",
       "    <tr style=\"text-align: right;\">\n",
       "      <th></th>\n",
       "      <th>dob</th>\n",
       "      <th>full_name</th>\n",
       "      <th>email</th>\n",
       "      <th>medication</th>\n",
       "      <th>dosage</th>\n",
       "      <th>quantity</th>\n",
       "      <th>date</th>\n",
       "    </tr>\n",
       "  </thead>\n",
       "  <tbody>\n",
       "    <tr>\n",
       "      <th>0</th>\n",
       "      <td>11/03/98</td>\n",
       "      <td>Alec Matthews</td>\n",
       "      <td>alec.philip.matthews@gmail.com</td>\n",
       "      <td>med1</td>\n",
       "      <td>2mg</td>\n",
       "      <td>32</td>\n",
       "      <td>07/08/21</td>\n",
       "    </tr>\n",
       "    <tr>\n",
       "      <th>1</th>\n",
       "      <td>11/03/98</td>\n",
       "      <td>Alec Matthews</td>\n",
       "      <td>alec.philip.matthews@gmail.com</td>\n",
       "      <td>med2</td>\n",
       "      <td>4mg</td>\n",
       "      <td>64</td>\n",
       "      <td>07/08/21</td>\n",
       "    </tr>\n",
       "    <tr>\n",
       "      <th>2</th>\n",
       "      <td>11/03/98</td>\n",
       "      <td>Alec Matthews</td>\n",
       "      <td>alec.philip.matthews@gmail.com</td>\n",
       "      <td>med3</td>\n",
       "      <td>8mg</td>\n",
       "      <td>128</td>\n",
       "      <td>07/08/21</td>\n",
       "    </tr>\n",
       "    <tr>\n",
       "      <th>3</th>\n",
       "      <td>11/03/98</td>\n",
       "      <td>Alec Matthews</td>\n",
       "      <td>alec.philip.matthews@gmail.com</td>\n",
       "      <td>med4</td>\n",
       "      <td>16mg</td>\n",
       "      <td>256</td>\n",
       "      <td>07/08/21</td>\n",
       "    </tr>\n",
       "    <tr>\n",
       "      <th>4</th>\n",
       "      <td>15/04/68</td>\n",
       "      <td>Patrick School</td>\n",
       "      <td>pat.skol@gmail.com</td>\n",
       "      <td>med1</td>\n",
       "      <td>2mg</td>\n",
       "      <td>32</td>\n",
       "      <td>08/08/21</td>\n",
       "    </tr>\n",
       "  </tbody>\n",
       "</table>\n",
       "</div>"
      ],
      "text/plain": [
       "        dob       full_name                           email medication dosage  \\\n",
       "0  11/03/98   Alec Matthews  alec.philip.matthews@gmail.com       med1    2mg   \n",
       "1  11/03/98   Alec Matthews  alec.philip.matthews@gmail.com       med2    4mg   \n",
       "2  11/03/98   Alec Matthews  alec.philip.matthews@gmail.com       med3    8mg   \n",
       "3  11/03/98   Alec Matthews  alec.philip.matthews@gmail.com       med4   16mg   \n",
       "4  15/04/68  Patrick School              pat.skol@gmail.com       med1    2mg   \n",
       "\n",
       "   quantity      date  \n",
       "0        32  07/08/21  \n",
       "1        64  07/08/21  \n",
       "2       128  07/08/21  \n",
       "3       256  07/08/21  \n",
       "4        32  08/08/21  "
      ]
     },
     "execution_count": 6,
     "metadata": {},
     "output_type": "execute_result"
    }
   ],
   "source": [
    "ds['pt'] = ds['full_name'].apply(lambda x: )"
   ]
  },
  {
   "cell_type": "code",
   "execution_count": 4,
   "metadata": {},
   "outputs": [],
   "source": [
    "ls = [row for row in pd.read_csv('scripts.csv').iterrows()]"
   ]
  },
  {
   "cell_type": "code",
   "execution_count": 5,
   "metadata": {},
   "outputs": [
    {
     "name": "stdout",
     "output_type": "stream",
     "text": [
      "Alec Matthews\n",
      "Alec Matthews\n",
      "Alec Matthews\n",
      "Alec Matthews\n",
      "Patrick School\n",
      "Patrick School\n",
      "Patrick School\n",
      "Patrick School\n",
      "Edward Skill\n",
      "Edward Skill\n",
      "Edward Skill\n",
      "swansten beans\n"
     ]
    }
   ],
   "source": [
    "for i in ls:\n",
    "    print(i[1].full_name)"
   ]
  },
  {
   "cell_type": "code",
   "execution_count": 116,
   "metadata": {},
   "outputs": [],
   "source": [
    "ls = [row for row in ds.iterrows()]"
   ]
  },
  {
   "cell_type": "code",
   "execution_count": 118,
   "metadata": {},
   "outputs": [
    {
     "data": {
      "text/plain": [
       "'Alec Matthews'"
      ]
     },
     "execution_count": 118,
     "metadata": {},
     "output_type": "execute_result"
    }
   ],
   "source": [
    "ls[0][1].full_name"
   ]
  },
  {
   "cell_type": "code",
   "execution_count": 63,
   "metadata": {},
   "outputs": [
    {
     "name": "stdout",
     "output_type": "stream",
     "text": [
      "dob                                 11/03/98\n",
      "name                           Alec Matthews\n",
      "email         alec.philip.matthews@gmail.com\n",
      "medication                              med1\n",
      "dosage                                   2mg\n",
      "quantity                                  32\n",
      "date                                07/08/21\n",
      "Name: 0, dtype: object\n",
      "dob                                 11/03/98\n",
      "name                           Alec Matthews\n",
      "email         alec.philip.matthews@gmail.com\n",
      "medication                              med2\n",
      "dosage                                   4mg\n",
      "quantity                                  64\n",
      "date                                08/08/21\n",
      "Name: 1, dtype: object\n",
      "dob                                 11/03/98\n",
      "name                           Alec Matthews\n",
      "email         alec.philip.matthews@gmail.com\n",
      "medication                              med3\n",
      "dosage                                   8mg\n",
      "quantity                                 128\n",
      "date                                09/08/21\n",
      "Name: 2, dtype: object\n",
      "dob                                 11/03/98\n",
      "name                           Alec Matthews\n",
      "email         alec.philip.matthews@gmail.com\n",
      "medication                              med4\n",
      "dosage                                  16mg\n",
      "quantity                                 256\n",
      "date                                10/08/21\n",
      "Name: 3, dtype: object\n"
     ]
    }
   ],
   "source": [
    "for row in ds.iterrows():\n",
    "    print(row[1])"
   ]
  },
  {
   "cell_type": "code",
   "execution_count": 48,
   "metadata": {},
   "outputs": [
    {
     "data": {
      "text/plain": [
       "dob                                 11/03/98\n",
       "name                           Alec Matthews\n",
       "email         alec.philip.matthews@gmail.com\n",
       "medication                              med2\n",
       "dosage                                   4mg\n",
       "quantity                                  64\n",
       "date                                08/08/21\n",
       "Name: 1, dtype: object"
      ]
     },
     "execution_count": 48,
     "metadata": {},
     "output_type": "execute_result"
    }
   ],
   "source": [
    "ds.iloc[1]"
   ]
  },
  {
   "cell_type": "code",
   "execution_count": 39,
   "metadata": {},
   "outputs": [
    {
     "name": "stdout",
     "output_type": "stream",
     "text": [
      "0    11/03/98\n",
      "1    11/03/98\n",
      "2    11/03/98\n",
      "3    11/03/98\n",
      "Name: dob, dtype: object\n",
      "0    Alec Matthews\n",
      "1    Alec Matthews\n",
      "2    Alec Matthews\n",
      "3    Alec Matthews\n",
      "Name: name, dtype: object\n",
      "0    alec.philip.matthews@gmail.com\n",
      "1    alec.philip.matthews@gmail.com\n",
      "2    alec.philip.matthews@gmail.com\n",
      "3    alec.philip.matthews@gmail.com\n",
      "Name: email, dtype: object\n",
      "0    med1\n",
      "1    med2\n",
      "2    med3\n",
      "3    med4\n",
      "Name: medication, dtype: object\n",
      "0     2mg\n",
      "1     4mg\n",
      "2     8mg\n",
      "3    16mg\n",
      "Name: dosage, dtype: object\n",
      "0     32\n",
      "1     64\n",
      "2    128\n",
      "3    256\n",
      "Name: quantity, dtype: int64\n",
      "0    07/08/21\n",
      "1    08/08/21\n",
      "2    09/08/21\n",
      "3    10/08/21\n",
      "Name: date, dtype: object\n"
     ]
    }
   ],
   "source": [
    "for i in ds.sort_values('date'):\n",
    "    print(ds[i])\n"
   ]
  },
  {
   "cell_type": "raw",
   "metadata": {},
   "source": []
  },
  {
   "cell_type": "code",
   "execution_count": null,
   "metadata": {},
   "outputs": [],
   "source": []
  },
  {
   "cell_type": "code",
   "execution_count": null,
   "metadata": {},
   "outputs": [],
   "source": []
  }
 ],
 "metadata": {
  "kernelspec": {
   "display_name": "Python 3",
   "language": "python",
   "name": "python3"
  },
  "language_info": {
   "codemirror_mode": {
    "name": "ipython",
    "version": 3
   },
   "file_extension": ".py",
   "mimetype": "text/x-python",
   "name": "python",
   "nbconvert_exporter": "python",
   "pygments_lexer": "ipython3",
   "version": "3.8.8"
  }
 },
 "nbformat": 4,
 "nbformat_minor": 2
}
